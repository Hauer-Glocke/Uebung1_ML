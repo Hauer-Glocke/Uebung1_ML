{
 "cells": [
  {
   "cell_type": "markdown",
   "metadata": {},
   "source": [
    "##### Hinweis: In den Aufgaben kann es sinnvoll sein sich über die Datenstrukturen Gedanken zu machen.\n",
    "# Aufgabe 1.1\n",
    "### Sie finden beigefügt eine Datei mit dem Namen Uni_Marburg_Wikipedia.txt. In dieser Datei ist der Wikipediaartikel (Stand 18.10.2017) unserer Universität gespeichert.\n",
    "## a) Öffen Sie die Datei, geben Sie den kompletten Text aus und schließen Sie dann den Datenstrom. (2,5 P.)"
   ]
  },
  {
   "cell_type": "code",
   "execution_count": 6,
   "metadata": {},
   "outputs": [
    {
     "name": "stdout",
     "output_type": "stream",
     "text": [
      "Philipps-Universitaet Marburg \n",
      "\n",
      "Die Philipps-Universitaet Marburg ( historisch Alma Mater Philippina ) wurde 1527 gegruendet und umfasst heute 16 Fachbereiche deren Einrichtungen ueber das Marburger Stadtgebiet verteilt sind sowie eine Verwaltung . Mit ueber 26.497 Studierenden ( 2016 ) zaehlt sie zu den mittelgrossen deutschen Volluniversitaeten . Sie besitzt in mehreren Fachbereichen ( Medizin Chemie Psychologie etc. ) ein Renommee und gilt hier als besonders drittmittel- und forschungsstark . \n",
      "\n",
      "Die Universitaet wurde im Jahr 1527 von Landgraf Philipp dem Grossmuetigen als protestantische Hochschule gegruendet und ist damit die aelteste noch bestehende Universitaet der Welt die auf eine protestantische Gruendung zurueckgeht . \n",
      "\n",
      "Geschichte \n",
      "\n",
      "Gruendungsjahre \n",
      "\n",
      "Landgraf Philipp der Grossmuetige Steinrelief Philippstein von 1542 \n",
      "\n",
      "Am 1. Juli 1527 weihte der landgraefliche Kanzler Johann Feige die von Landgraf Philipp gegruendete Universitaet feierlich ein . Ihr gehoerten damals elf Professoren und 88 Studenten an . Erster Rektor war der Professor der Rechte und Beisitzer am landgraeflichen Hofgericht Johannes Eisermann genannt Ferrarius Montanus aus Amoeneburg . Er eroeffnete die Universitaet bereits am 20. Mai 1527 . Im selben Jahr verlieh er der Universitaet die erforderlichen akademischen Freiheiten . Am 4. Oktober 1541 folgte mit der Dotationsurkunde die wirtschaftliche Selbststaendigkeit der Universitaet . Im Folgejahr erhielt der Landgraf von Kaiser Karl V. das Universitaetsprivileg das auf dem Reichstag zu Regensburg ausgefertigt wurde und vor dem Hintergrund des Regensburger Vertrags zwischen dem Kaiser und dem Landgrafen zu sehen ist . Erst mit diesem letzten Schritt war die Gruendung vollstaendig abgeschlossen . \n",
      "\n",
      "Die Hochschule nutzte zunaechst in erster Linie die vorhandenen Klostereinrichtungen der Dominikaner Franziskaner und Kugelherren . Zwei Jahre nach der Universitaetsgruendung gruendete Philipp zur Foerderung von begabten Landeskindern die Hessische Stipendiatenanstalt die heute noch als Studentenwohnheim der Universitaet existiert und mittlerweile im Marstallgebaeude der Schmiede und dem Zeughaus des Marburger Schlosses untergebracht ist . Die Universitaet war 1529 Schauplatz des Marburger Religionsgespraechs zwischen Martin Luther Ulrich Zwingli und Philipp Melanchthon . 1542 wurde sie waehrend der Pestepedemie voruebergehend in das Universitaetsgebaeude der Stadt Gruenberg ausgelagert . \n",
      "\n",
      "16. und 17. Jahrhundert \n",
      "\n",
      "Marburger Student um 1700 \n",
      "\n",
      "In der Zeit von 1580 bis 1628 war Rudolf Goclenius Professor fuer Philosophie Logik und Ethik an der Philipps-Universitaet . Er versuchte wie zahlreiche andere Professoren seiner Zeit Melanchthons Philosophie mit der von Petrus Ramus zu verbinden . Im Jahr 1609 wurde Johannes Hartmann zum Professor fuer Chymiatrie berufen und erhielt damit den weltweit ersten pharmazeutisch-medizinisch orientierten Chemie-Lehrstuhl . \n",
      "\n",
      "Als Landgraf Moritz zum Calvinismus uebertrat nahm die Universitaet unter Zwang ebenfalls das reformierte Bekenntnis an ( und behielt es bis zum Ende der konfessionellen Ausrichtung 1866 ) was viele lutherische Professoren an die 1607 neu gegruendete Giessener Universitaet vertrieb . Als im Jahr 1624 Marburg voruebergehend an das lutherische Hessen-Darmstadt fiel wurde die Universitaet von 1625 bis 1649 mit der Giessener Universitaet vereinigt und danach geschlossen . Am 24. Juni 1653 wurde die Universitaet durch Wilhelm VI. ( Hessen-Kassel ) wiedereroeffnet der den Universitaetsstandort des Landes wieder von Kassel nach Marburg verlegte . Die Hochschule erlebte danach wegen der Konfessionalisierung und Finanzknappheit schwere Jahre . \n",
      "\n",
      "18. und 19. Jahrhundert \n",
      "\n",
      "Universitaetsmedizin Marburg : Gedenktafel Gebaerhaus ( 1823â€“1866 ) am heutigen Geografie-Institut \n",
      "\n",
      "1785 war die Universitaet Landstand da sie bei Landtagen unter den Praelaten Sitz und Stimme hatte besonderer Teil des Landes da sie eine eigene Jurisdiktion hatte und geistliche Stiftung da sie Kirchengueter besass und schliesslich gelehrte Anstalt . Rektor war der Landesherr selbst Kurator der Etats-Minister Freiherr von Flekenbuehl . Der Senat waehlte an jedem Neujahrstag den Prorektor . Der Senat bestand aus dem Kanzler drei Theologen sechs Juristen zwei Medizinern und neun Philosophen . Hierzu kamen zwei Lehrer der franzoesischen ein Lehrer der englischen und ein Lehrer der italienischen Sprache ein Stallmeister ein Fechtmeister ein Tanzmeister ein Konzertmeister ein Mechanikus und ein Zeichenmeister . Die Bibliothek war in den juristischen und historischen Faechern gut bestueckt da Johann Georg Estor ca. 10.000 Baende gestiftet hatte . Der Ankaufetat betrug 150 Gulden ( umgerechnet etwa 6000 bis 7500 Euro ) jaehrlich . Der Universitaet gehoerten zwei Buchhandlungen eine Druckerei und eine Apotheke . \n",
      "\n",
      "Alte Universitaet \n",
      "\n",
      "Der beruehmte Philosoph Christian Wolff der bis 1740 in Marburg lehrte zog viele Studenten an . Nach dessen Weggang stagnierte die weitere Entwicklung der Universitaet . Einen neuerlichen Aufschwung erfuhr die Hochschule erst unter Napoleon . Zum ersten Mal seit geraumer Zeit wurden neue Universitaetsgebaeude gebaut . Nach der Rueckkehr der Kurfuersten im Jahre 1813 wurden die Neuerungen weitestgehend wieder rueckgaengig gemacht . Durch das Ende der Westfaelischen Zeit verschwanden auch dessen Verwaltungsorganisation sowie der gemeinsame Studienfonds und die Besoldung der Professoren aus dem Staatshaushalt . In dieser neuerlichen Stagnation verweilte die Marburger Universitaet bis Hessen-Kassel 1866 in Preussen aufging . Durch die Annexion wurde die Hochschule zu einer Preussischen und erfuhr somit auch die Vorteile der preussischen Bildungspolitik . Zu diesem Zeitpunkt zaehlte die Universitaet 264 Studenten ( davon 22 Nicht-Hessen ) und 51 Professoren . \n",
      "\n",
      "In die Kaiserzeit faellt auch der Bau der heutigen Alten Universitaet durch Carl Schaefer der als qualitaetvolles Beispiel eines Profanbaus der deutschen Neogotik gilt . Sehenswert sind unter anderem die im Stile des Historismus gestaltete Aula und der Karzer fuer Studenten . \n",
      "\n",
      "Bedingt durch die Grundstueckssituation und das Bestreben geeignete Gebaeude in Staatsbesitz zu nutzen blieben die Einrichtungen der Hochschule â€“ im Gegensatz zur Campus-Universitaet angloamerikanischer Praegung wie z.B. in Bielefeld Bochum und Konstanz â€“ ueber die Stadt verteilt was auch viele Vorteile fuer Stadt und Universitaet hat . Im Jahr 1880 waren 500 Studenten eingeschrieben 1887 stieg die Studentenzahl erstmals auf ueber 1000 . \n",
      "\n",
      "20. Jahrhundert \n",
      "\n",
      "Geisteswissenschaften und UB \n",
      "\n",
      "Mensa auf den Lahnbergen \n",
      "\n",
      "Geisteswissenschaften ( Philfak ) \n",
      "\n",
      "Universitaetsbibliothek \n",
      "\n",
      "Hoersaalgebaeude \n",
      "\n",
      "Biomedizinisches Forschungszentrum \n",
      "\n",
      "Klinikum Marburg ( privatisiert ) \n",
      "\n",
      "Beispiel fuer das Marburger Bausystem : Fachbereich 17 Biologie \n",
      "\n",
      "Bis 1909 verdoppelte sich die Studentenzahl wiederum . Obwohl Frauen zum Studium in Marburg noch nicht zugelassen waren promovierte 1905 allerdings nur aufgrund einer Sonderregelung eine Studentin in Marburg im Fach Medizin . Hierbei handelte es sich um die Japanerin Todako Urata . Sie war nicht die einzige Ausnahme : Bereits 1827 verlieh die Universitaet Johanna Wyttenbach fuer ihre philosophischen Abhandlungen zur aesthetik eine Ehrendoktorwuerde . Zum Wintersemester 1908/09 wurden erstmals 26 Studentinnen zum Studium an der Philipps-Universitaet einschrieben . Bis zum Ausbruch des Ersten Weltkrieges war ihre Zahl auf 206 gestiegen . \n",
      "\n",
      "Der Erste Weltkrieg war ein tiefer Einschnitt fuer die Universitaet Marburg . Es gibt keine offiziellen Zahlen der Kriegsfreiwilligen aus Marburg . Doch duerfte gerade bei den Studierenden die Zahl der Verweigerer relativ gering gewesen sein . Waehrend im Sommersemester 1914 noch 2258 maennliche Studenten eingeschrieben waren verringerte sich die Zahl im darauffolgenden Wintersemester auf 1899 . Und von diesen wiederum hatten lediglich 478 Vorlesungen in Anspruch genommen . Nach drei Monaten Krieg hatte die Universitaet bereits 55 gefallene Studenten zu beklagen . \n",
      "\n",
      "Im Jubilaeumsjahr 1927 wurde die Zahl von 3000 Immatrikulierten ueberschritten . Ab dem Jahr 1931 ( 4.387 ) erlebte die Studentenzahl â€“ auf Grund geburtenschwacher Jahrgaenge ab 1933 aber auch auf Grund nationalsozialistischer Reglementierung ( Beschraenkung des Frauenstudiums Ausschluss juedischer Studenten Vorschalten von Pflichtdiensten wie Reichsarbeitsdienst und Militaerdienst vor die Immatrikulation ) â€“ einen deutlichen Einbruch . \n",
      "\n",
      "Nach der Machtuebernahme der Nationalsozialisten im Jahr 1933 wurden 20 Marburger Hochschullehrer aus rassistischen oder politischen Gruenden vertrieben . Das war mehr als ein Zehntel des Lehrkoerpers . Zu den vertriebenen Hochschullehrern gehoerte der renommierte Nationaloekonom Wilhelm Roepke der in die Tuerkei emigrierte . Der juedische Professor fuer indogermanische Sprachen Hermann Jacobsohn veruebte am 27. April nach seiner Beurlaubung 1933 Suizid . Viele Wissenschaftler unterzeichneten das Bekenntnis der deutschen Professoren zu Adolf Hitler darunter auch spaetere Gegner des NS-Regimes wie der Romanist Werner Krauss . \n",
      "\n",
      "Marburg verfuegte historisch ueber ein ausgepraegtes Couleurstudententum was wiederholt anlaesslich des alljaehrlich am ersten Sonntag im Juli stattfindenden Marktfruehschoppens der Verbindungsstudenten durch Gegner der Veranstaltung zu Konflikten und grossen Polizeiaufgeboten fuehrte . Marburger Verbindungsstudenten waren 1920 verantwortlich fuer die Mechterstaedter Morde . Bis 1936 erfolgte die weitgehende Selbstaufloesung der Marburger Studentenverbindungen im Zuge der Gleichschaltung der Verbindungen in Form so genannter Kameradschaften im Nationalsozialistischen Deutschen Studentenbund . Nach dem Krieg wurden die meisten Verbindungen jedoch nach ihren alten meist unpolitischen Grundsaetzen wieder neu ins Leben gerufen; sie stellen heute einen eher marginalen Faktor des universitaeren Lebens dar . \n",
      "\n",
      "Ab 1960 wurde die Universitaet wiederum ausgebaut und erweitert auch um den Anforderungen der nach 1945 stark anschwellenden Studierendenschaft zu begegnen ( im Sommersemester 1964 zaehlte diese 8000 Studierende ) . Die Neubauten des Verwaltungsgebaeudes der Mensa und des Hoersaalgebaeudes beendeten die aergste Platznot der weit ueber ihre Kapazitaeten belasteten Universitaet . Daneben entstand die Philosophische Fakultaet an der B3 und die alte Elisabethschule musste dem Savignyhaus der Rechtswissenschaften weichen . Die Gruendung der Naturwissenschaftlichen Fakultaet auf dem Campus-Gelaende auf den Lahnbergen ( ausserhalb der Stadt ) fand Ende der 1960er Jahre statt . Umgesetzt wurden die dortigen Bauten im Marburger System im ersten Fertigteilkonzept des bundesdeutschen Hochschulbaus . \n",
      "\n",
      "In den 1970er und 1980er Jahren galt die Marburger Universitaet und insbesondere der Fachbereich 03 Gesellschaftswissenschaften und Philosophie als linke Hochburg . Bereits seit den 1950er Jahren wirkte hier der marxistische Politikwissenschaftler Wolfgang Abendroth . Nach 1968 wurden viele seiner Schueler der zweiten Generation wie Frank Deppe Georg Fuelberth Reinhard Kuehnl und Dieter Boris auf Professorenstellen in der Politikwissenschaft und der Soziologie berufen . Die mit Abendroth verbundenen Politikwissenschaftler bildeten die Marburger Schule eine der drei einflussreichsten Schulen der Politikwissenschaft in der alten Bundesrepublik die sich dadurch von anderen unterschied dass sie auch auf marxistische Denker Bezug nahm . Im Gegenzug dazu versuchten sich 35 altgediente Professoren gegen die sogenannte Demokratisierung der Hochschulen zu wehren und verfassten im April 1968 des Marburger Manifest was jedoch letztendlich nicht zum Erfolg fuehrte . \n",
      "\n",
      "â†’ Hauptartikel : Marburger Schule ( Politikwissenschaft ) \n",
      "\n",
      "1986 wurde aus einer Initiative Marburger oekonomiestudenten im nahen Weimar ( Lahn ) der Metropolis-Verlag gegruendet . \n",
      "\n",
      "Die Vertretung der Studierenden war in den 1970er Jahren vom DKP-nahen Marxistischen Studentenbund Spartakus ( MSB ) und in den 80er Jahren von der Gruen Bunt Alternativen Liste ( GBAL ) gepraegt . \n",
      "\n",
      "Die Philipps-Universitaet ist heute gepraegt durch ihre Vielzahl an kleinen vor allem geisteswissenschaftlichen Faechern die zahlreiche Studienkombinationen ermoeglichen . Fuehrend in Rankings ist sie vor allem in den Naturwissenschaften insbesondere Chemie und Biologie ebenso wie in der Psychologie . Hervorragend ausgewiesen ist sie beispielsweise in den Materialwissenschaften und der Nanotechnologie in der Tumorbiologie und der Mikrobiologie in den Neurowissenschaften auf dem Gebiet der Optodynamik der Friedens- und Konfliktforschung sowie weiteren natur- und geisteswissenschaftlichen wie auch medizinischen Fachgebieten . Im Bereich der Forschung gilt sie als ueberdurchschnittlich erfolgreich was viele hohe Auszeichnungen fuer Wissenschaftler der Universitaet insbesondere elf Leibniz-Preise belegen . \n",
      "\n",
      "Bundesweit historisch ohne Vorbild ist der Verkauf des Universitaetsklinikums an die Rhoen-Klinikum-AG einen privatwirtschaftlichen Klinikkonzern zum 1. Januar 2006 nachdem es zuvor mit dem Universitaetsklinikum Giessen fusioniert wurde . Das Klinikum heisst seither Universitaetsklinikum Giessen und Marburg GmbH Standort Marburg . Im Rahmen des begonnenen zweiten Bauabschnitts des Klinikums auf den Lahnbergen sind inzwischen die beiden Neubauten des Biomedizinischen Forschungszentrums und der Zentralen Medizinischen Bibliothek eingeweiht worden der Umzug des Mutter-Kind-Zentrums erfolgte im Sommer 2006 . \n",
      "\n",
      "Neubau der Zentralen Universitaetsbibliothek ( ZUB ) \n",
      "\n",
      "am Pilgrimstein im Jahr 2016 \n",
      "\n",
      "In der Innenstadt ist ein neuer offener Campus fuer die Geisteswissenschaften in Planung deren bisheriger Gebaeudekomplex in der Wilhelm Roepke-Strasse komplett aufgegeben werden soll . Die meisten naturwissenschaftlichen und medizinischen Institute dagegen bleiben weiterhin auf dem Campus Lahnberge weit ausserhalb der Stadt . \n",
      "\n",
      "Die Philipps-Universitaet hat zwoelf Prozent auslaendische Studierende die aus ueber 120 Nationen kommen; Frauen machen mittlerweile ueber die Haelfte der Studierenden aus . Historisch gab es zahlreiche prominente Universitaets-Angehoerige . \n",
      "\n",
      "Gliederung \n",
      "\n",
      "Die Philipps-Universitaet Marburg gliedert sich in 16 Fachbereiche. \n",
      "\n",
      "Praesidium \n",
      "\n",
      "An der Spitze der Universitaet Marburg steht das Praesidium das sich zusammensetzt aus der Praesidentin Katharina Krause den Vizepraesidenten Michael Boelker Evelyn Korn und Joachim Schachtner sowie dem Kanzler Friedhelm Nonne . \n",
      "\n",
      "Fachbereiche \n",
      "\n",
      "In den Anfaengen bestand die Universitaet aus der Theologischen der Medizinischen der Juristischen und der Philosophischen Fakultaet aus der 1964 die Mathematisch-Naturwissenschaftliche Fakultaet ausgegliedert wurde . 1970 wurden die Fakultaeten mit dem Hessischen Hochschulgesetz in dann 20 Fachbereiche umgewandelt . Nach 1997 wurden einige Fachbereiche zusammengelegt so dass die Nummerierung der nunmehr 16 Fachbereiche heute nicht mehr durchgaengig ist . \n",
      "\n",
      "In der Fachrichtung Psychologie rangiert die Universitaet Marburg in der Spitzengruppe des europaweiten CHE-Exzellenzrankings 2009 und gehoert somit zur CHE Excellence Group Psychology 2009 . \n",
      "\n",
      "Zudem hat die Philipps-Universitaet Marburg den groessten Fachbereich Pharmazie in ganz Deutschland . \n",
      "\n",
      "    FB 01 â€“ Rechtswissenschaften \n",
      "\n",
      "    FB 02 â€“ Wirtschaftswissenschaften \n",
      "\n",
      "    FB 03 â€“ Gesellschaftswissenschaften und Philosophie \n",
      "\n",
      "    FB 04 â€“ Psychologie \n",
      "\n",
      "    FB 05 â€“ Evangelische Theologie \n",
      "\n",
      "    FB 06 â€“ Geschichte und Kulturwissenschaften \n",
      "\n",
      "    FB 09 â€“ Germanistik und Kunstwissenschaften \n",
      "\n",
      "    FB 10 â€“ Fremdsprachliche Philologien \n",
      "\n",
      "    FB 12 â€“ Mathematik und Informatik \n",
      "\n",
      "    FB 13 â€“ Physik \n",
      "\n",
      "    FB 15 â€“ Chemie \n",
      "\n",
      "    FB 16 â€“ Pharmazie \n",
      "\n",
      "    FB 17 â€“ Biologie \n",
      "\n",
      "    FB 19 â€“ Geographie \n",
      "\n",
      "    FB 20 â€“ Medizin \n",
      "\n",
      "    FB 21 â€“ Erziehungswissenschaften \n",
      "\n",
      "Im Zuge des Bologna-Prozesses fuehrte die Marburger Universitaet eine grosse Zahl neuer Bachelor- und Masterstudiengaenge ein . Parallel dazu werden die klassischen Studiengaenge mit Abschluss Magister Diplom usw . eingestellt . \n",
      "\n",
      "An-Institute \n",
      "\n",
      "Die Universitaet kooperiert mit folgenden An-Instituten : \n",
      "\n",
      "    Christoph-Dornier-Stiftung fuer klinische Psychologie \n",
      "\n",
      "    Forschungsstelle fuer Personalschriften \n",
      "\n",
      "    Hans von Soden Institut fuer theologische Forschung \n",
      "\n",
      "    Health Care Management e .V . \n",
      "\n",
      "    Institut fuer Genossenschaftswesen ( Stiftung des privaten Rechts ) \n",
      "\n",
      "    Institut fuer Interdisziplinaere Gerontologie und angewandte Sozialethik \n",
      "\n",
      "    Institut fuer Kirchenbau und kirchliche Kunst der Gegenwart \n",
      "\n",
      "    Institut fuer Verhaltenstherapie und Verhaltensmedizin ( IVV ) \n",
      "\n",
      "    Institut fuer Wirtschafts- und Sozialethik \n",
      "\n",
      "    Katholisch-Theologisches Seminar der Theologischen Fakultaet Fulda \n",
      "\n",
      "Forschung \n",
      "\n",
      "Sonderforschungsbereiche \n",
      "\n",
      "    SFB/TR17 â€“ Ras-dependent Pathways in Human Cancer ( 2004; Gemeinsam mit Uni Wuerzburg ) \n",
      "\n",
      "    SFB/TR22 â€“ Allergische Immunantworten der Lunge ( Beginn : 2005 ) \n",
      "\n",
      "    SFB 593 â€“ Mechanismen der zellulaeren Kompartimentierung und deren krankheitsrelevante Veraenderungen ( Beginn : 2003 ) \n",
      "\n",
      "    SFB 987 - Microbial Diversity in Environmental Signal Response ( Beginn : 2013 ) \n",
      "\n",
      "    SFB 1083 â€“ Struktur und Dynamik innerer Grenzflaechen ( Beginn : 2013 ) \n",
      "\n",
      "    SFB/TRR 138 â€“ Dynamiken der Sicherheit . Formen der Versicherheitlichung in historischer Perspektive . ( Beginn : 2014 ) \n",
      "\n",
      "    SFB/TRR 174 - Spatiotemporal Dynamics of Bacterial Cells ( Beginn : 2017 ) \n",
      "\n",
      "Nobelpreistraeger \n",
      "\n",
      "Mit dem Nobelpreis ausgezeichnet wurden bisher elf Personen die durch Studium oder Lehre mit der Philipps-Universitaet verbunden sind . \n",
      "\n",
      "    1901 : Emil von Behring ( Medizin ) \n",
      "\n",
      "    1909 : Ferdinand Braun ( Physik ) \n",
      "\n",
      "    1910 : Albrecht Kossel ( Medizin ) \n",
      "\n",
      "    1930 : Hans Fischer ( Chemie ) \n",
      "\n",
      "    1936 : Otto Loewi ( Medizin ) \n",
      "\n",
      "    1939 : Adolf Butenandt ( Chemie ) \n",
      "\n",
      "    1944 : Otto Hahn ( Chemie ) \n",
      "\n",
      "    1958 : Boris Pasternak ( Literatur ) \n",
      "\n",
      "    1963 : Karl Ziegler ( Chemie ) \n",
      "\n",
      "    1979 : Georg Wittig ( Chemie ) \n",
      "\n",
      "    2011 : Jules Hoffmann ( Medizin ) \n",
      "\n",
      "Leibniz-Preistraeger \n",
      "\n",
      "Der Gottfried-Wilhelm-Leibniz-Preis wurde an folgende 11 Preistraeger vergeben die an der Philipps-Universitaet forschen : \n",
      "\n",
      "    1987 : Rudolf Thauer der Juengere â€“ Biochemische Mikrobiologie \n",
      "\n",
      "    1989 : Manfred T . Reetz â€“ Organische Chemie \n",
      "\n",
      "    1991 : Ernst O . Goebel â€“ Festkoerperphysik \n",
      "\n",
      "    1991 : Rolf Mueller â€“ Biochemie/Molekularbiologie \n",
      "\n",
      "    1996 : Reinhard Georg Luehrmann â€“ Molekularbiologie \n",
      "\n",
      "    1997 : Paul Knochel â€“ Metallorganische Chemie \n",
      "\n",
      "    1997 : Stephan W . Koch â€“ Theoretische Physik \n",
      "\n",
      "    2002 : Bruno Eckhardt â€“ Theoretische Physik \n",
      "\n",
      "    2003 : Roland Lill â€“ Zellbiologie/Biochemie \n",
      "\n",
      "    2006 : Gyburg Radke verh . Uhlmann â€“ Klassische Philologie und Philosophie \n",
      "\n",
      "    2011 : Friederike Pannewick â€“ Arabistik \n",
      "\n",
      "Wissenschaftliche Einrichtungen \n",
      "\n",
      "Informationszentrum fuer Fremdsprachenforschung \n",
      "\n",
      "Zentrale Aufgabe des IFS ist die Dokumentation von Veroeffentlichungen zur Fremdsprachenforschung insbesondere zur Methodik und Didaktik des modernen Fremdsprachenunterrichts in einer Literaturdatenbank mit etwa 67.000 Eintraegen . Dokumentiert werden alle wichtigen deutschen und eine Vielzahl internationaler Fachzeitschriften sowie Monographien Sammelwerke E-Journals Lehrmaterialien Lernsoftware und graue Materialien aus den oben genannten Bereichen . \n",
      "\n",
      "Zentrum fuer Gender Studies und feministische Zukunftsforschung \n",
      "\n",
      "Das Zentrum ist im Block F der Geisteswissenschaftlichen Fakultaeten ( Philfak ) untergebracht und ist eine zentrale interdisziplinaer angelegte Forschungseinrichtung an der Philipps-Universitaet mit dem Ziel die Frauen- und Geschlechterforschung an der Philipps-Universitaet zu profilieren und zu staerken . Die staendigen Mitglieder des Zentrums sind Wissenschaftler aus 14 Disziplinen von sechs Fachbereichen der Philipps-Universitaet . Seit 2002 organisiert das Zentrum einen Habilitandinnen-Arbeitskreis . Es organisiert das Studienprogramm Gender Studies und feministische Wissenschaft . Das Zentrum gibt eine eigene Schriftenreihe mit unregelmaessig erscheinenden Publikationen heraus . \n",
      "\n",
      "Botanischer Garten Marburg \n",
      "\n",
      "Der Alte Botanische Garten als Spiegelung in der Glasfassade der neuen Uni-Bibliothek unterhalb der Oberstadt ( 2017 ) \n",
      "\n",
      "Der Botanische Garten der Universitaet liegt auf den Lahnbergen . Er wurde in den Jahren 1961â€“1977 in unmittelbarer Naehe des Fachbereichs 17 Biologie errichtet . Mit 20 ha ist er einer der groesseren Botanischen Gaerten Deutschlands . Schwerpunkt der Sammlungen sind das Arboretum mit vielen Nadelbaeumen ( Koniferen ) eine grosse Rhododendron-Sammlung der Fruehlingswald und ein Alpinum das Gebirgspflanzen aus zahlreichen Kontinenten enthaelt . In den Gewaechshaeusern werden viele Pflanzen aus den Tropischen Regenwaeldern gezeigt darunter die Titanwurz ( Amorphophallus titanum ) die groesste Blume der Welt . Des Weiteren beherbergt er auch Lehrsammlungen und Versuchsflaechen die der oeffentlichkeit nicht zugaenglich sind . \n",
      "\n",
      "Auch gibt es einen alten Botanischer Garten in der Innenstadt . Er wird aber nur noch als Park genutzt . \n",
      "\n",
      "Zentrums fuer Synthetische Mikrobiologie - SYNMIKRO \n",
      "\n",
      "Die Ziele des Wissenschaftlichen Zentrums fuer Synthetische Mikrobiologie ( SYNMIKRO ) sind das Verstaendnis sowie die Synthese Kombination und Integration neuer zellulaerer Funktionseinheiten zur Erzeugung von Mikroorganismen mit neuartigen Eigenschaften und damit breit gefaecherten Anwendungspotenzialen in der Biotechnologie und Medizin . Die Kooperation von zurzeit 34 wissenschaftlichen Mitgliedern aus der Philipps-Universitaet Marburg ( UMR 23 Mitglieder ) und dem Max-Planck-Institut fuer terrestrische Mikrobiologie ( MPItM 11 Mitglieder ) bietet zahlreiche Moeglichkeiten das Verstaendnis der molekularen Grundlagen und des Nutzungspotenzials von Mikroorganismen zu erweitern und dadurch neue Einsatzmoeglichkeiten zu eroeffnen . \n",
      "\n",
      "Studium \n",
      "\n",
      "Vertretung der Studierenden \n",
      "\n",
      "Die Marburger Studierenden werden ueber die eigenen Fachbereiche hinaus durch den Allgemeinen Studierendenausschuss ( AStA ) vertreten . Der AStA besteht aus vier Vorstaenden zwei allgemeinen und zwei fuer Finanzen sowie Referaten und autonomen Referaten . Der AStA und weitere Gremien werden vom Studierendenparlament ( StuPa ) in der ersten konstituierenden Sitzung am Anfang einer Legislatur gewaehlt und ist diesem Gremium in jeder Sitzung Rechenschaft schuldig ( TOP 3 jeder Tagesordnung ) . Das Studierendenparlament wird im Sommersemester fuer ein Jahr ( ab Oktober beginnend ) von allen wahlberechtigten Studierenden gewaehlt . \n",
      "\n",
      "Innerhalb der Fachbereiche werden deren Studierende durch die jeweilige Fachschaft vertreten . Diese sitzen unter anderem im Fachbereichsrat mit den Professoren des Fachbereichs zusammen . Die Vertretung und Verknuepfung der Fachschaften ist zusaetzlich ueber die Fachschaftenkonferenz ( FSK ) gewaehrleistet . \n",
      "\n",
      "Lahnterrassen bei der Mensa \n",
      "\n",
      "Am 19. April 2005 wurde u . a . durch Referenten des Marburger AStA mit den Verkehrsverbuenden RMV und NVV die Fortsetzung des Semestertickets bis 2011 unterzeichnet was durch das 40. StuPa bestaetigt wurde . Damit koennen Marburger Studierende im gesamten NVV und grossen Teilen des RMV alle oeffentlichen Verkehrsmittel ( bis einschl . Regional-Express der Deutschen Bahn ) nutzen . Studierendenvertretungen anderer hessischer Universitaeten haben sich an den Verhandlungen mit dem RMV ebenfalls beteiligt ( daher der Verhandlungserfolg ) allerdings haben deren Tickets auf Grund anderer oePNV-Bedingungen eine andere ( i .d .R . nicht so grosse ) Reichweite . Daher wird das Marburger Semesterticket inoffiziell gerne als bestes Semesterticket Deutschlands bezeichnet . \n",
      "\n",
      "Die Deutsche Bahn war aus Verhandlungen ueber einen InterCity-Zuschlag ausgestiegen so dass die IC-Nutzung ab Sommer-semester 2005 nicht mehr moeglich war . Im Wintersemester 2/2006 gelang es dem AStA die Deutsche Bahn wieder an den Verhandlungstisch zu holen so dass seit dem Sommersemester 2006 allen Marburger Studierenden erneut das IC-Ticket ( jetzt ohne Zusatzticket ) zur Verfuegung steht . \n",
      "\n",
      "Studierendenwohnheime \n",
      "\n",
      "Das Christian-Wolff-Haus ( CWH-Marburg ) ist eines der Marburger Studentenwohnheime . Es wurde nach dem Philosophen Christian Wolff ( 1679â€“1754 ) benannt und ist bei vielen ehemaligen Marburger Studierenden bekannt . Das Gebaeude in der Friedrich-Ebert-Strasse 111 wurde 1962 als Wohnheim fuer ca. 100 Promotionsstudierende erbaut und in den Jahren 1990 und 1992 zu einem Wohnheimkomplex mit 5 Gebaeuden und insgesamt 258 Wohnheimplaetzen erweitert ( Friedrich-Ebert-Str . 113 115 117 und 119 ) . Es ist inzwischen fuer Studierende jeder Art geoeffnet und gehoert zum Eigentum des Studentenwerks Marburg . Der Gebaeudekomplex liegt im Stadtteil Richtsberg und nahe den Universitaetsgebaeuden der naturwissenschaftlichen Fachbereiche auf den Lahnbergen . \n",
      "\n",
      "Das Collegium Philippinum ist ein selbstverwaltetes Studierendenwohnheim dessen Traeger die Universitaet ist . Es wurde 1946 gegruendet und dient seitdem den Stipendiaten der Hessischen Stipendiatenanstalt als Wohnheim steht aber prinzipiell allen Studierenden offen ganz unabhaengig von Geschlechtszugehoerigkeit Konfession Herkunft oder Studiengang der bewerbenden Person . Das Collegium Philippinum ist Teil des Marburger Schlosses und stellt zurzeit 39 Wohnheimplaetze zur Verfuegung davon 6 in Doppelzimmern . \n",
      "\n",
      "Das mit Unterstuetzung der amerikanischen Besatzungsmacht eingerichtete Collegium Gentium ein selbstverwaltetes Studierendenwohnheim im Obergeschoss der einstigen Jaegerkaserne aus dem 19. Jahrhundert ( heute : Standort des Fachbereichs Psychologie ) wurde nach rund 60 Jahren abgewickelt und geschlossen . Eine deutschlandweite Besonderheit stellte in den 1960er Jahren das Konrad-Biesalski-Haus dar . Hier wurde fuer Menschen mit koerperlicher Behinderung und mit hohem Assistenzbedarf eine Wohnmoeglichkeit geschaffen . Mit diesem Modell hat dieses Wohnheim immer noch ein Alleinstellungsmerkmal . Ein architektonisches Alleinstellungsmerkmal des vorbeugenden Brandschutzes in der universitaeren Landschaft stellen die Rettungsrutschen dar . \n",
      "\n",
      "Campusleben \n",
      "\n",
      "Neben den Vorlesungen bietet die Philipps-Universitaet Marburg den Studierenden auch viele Kultur- Sport- und Freizeitangeboten . So stehen ihnen im Hochschulsport fast 100 verschiedene Sportarten zur Verfuegung . Angeboten werden diverse Ball- und Teamsportarten wie Rugby Lacrosse oder American Football Wasser- Reit- und Kampfsport sowie Yoga und Shiatsu . Darueber hinaus findet jedes Jahr im Sommersemester an einem Tag das SportDies statt wo ueberall in der Stadt Sportveranstaltungen fuer Studierende abgedeckt werden . \n",
      "\n",
      "Das Sprachenzentrum ermoeglicht es den Studierenden aller Fachbereiche verschiedene Sprachen zu erlernen . Dabei koennen auch fachspezifische Sprachenkurse gewaehlt werden . Des Weiteren bietet die Universitaet folgende kostenlose Dienste wie ein universitaetsweites W-LAN Scannen von Dokumenten und Buechern und eine Uni-E-Mailadresse an . Fuer musikalisch interessierte Studierende gibt es unter anderem das Studenten-Sinfonieorchester Marburg den Universitaetschor Marburg die Junge Marburger Philharmonie oder die Studierenden-BigBand sowie die oeffentlichen uebungsraeume der Universitaet . \n",
      "\n",
      "Zudem findet zu Beginn des Semesters eine Ersti-Party fuer Studienanfaenger unter Regie des AStA und Partys zahlreicher Fachschaften statt . In Marburg gibt es insgesamt 29 Studentenverbindungen .\n"
     ]
    }
   ],
   "source": [
    "marburg  = open('Uni_Marburg_Wikipedia.txt', 'r')\n",
    "for line in marburg:\n",
    "    print(line)\n",
    "    \n",
    "marburg.close()"
   ]
  },
  {
   "cell_type": "markdown",
   "metadata": {},
   "source": [
    "## b) Lassen Sie berechnen, wie oft das Wort Informatik vorkommt. (2 P.)"
   ]
  },
  {
   "cell_type": "code",
   "execution_count": 14,
   "metadata": {},
   "outputs": [
    {
     "ename": "IndexError",
     "evalue": "list assignment index out of range",
     "output_type": "error",
     "traceback": [
      "\u001b[1;31m---------------------------------------------------------------------------\u001b[0m",
      "\u001b[1;31mIndexError\u001b[0m                                Traceback (most recent call last)",
      "\u001b[1;32m<ipython-input-14-d2cdeebe8b63>\u001b[0m in \u001b[0;36m<module>\u001b[1;34m()\u001b[0m\n\u001b[0;32m      3\u001b[0m \u001b[0mi\u001b[0m \u001b[1;33m=\u001b[0m \u001b[1;36m1\u001b[0m\u001b[1;33m\u001b[0m\u001b[0m\n\u001b[0;32m      4\u001b[0m \u001b[1;32mfor\u001b[0m \u001b[0mline\u001b[0m \u001b[1;32min\u001b[0m \u001b[0mmarburg\u001b[0m\u001b[1;33m:\u001b[0m\u001b[1;33m\u001b[0m\u001b[0m\n\u001b[1;32m----> 5\u001b[1;33m     \u001b[0mmar_tx\u001b[0m\u001b[1;33m[\u001b[0m\u001b[0mi\u001b[0m\u001b[1;33m]\u001b[0m \u001b[1;33m=\u001b[0m \u001b[0mline\u001b[0m\u001b[1;33m\u001b[0m\u001b[0m\n\u001b[0m\u001b[0;32m      6\u001b[0m     \u001b[0mi\u001b[0m\u001b[1;33m=\u001b[0m\u001b[0mi\u001b[0m\u001b[1;33m+\u001b[0m\u001b[1;36m1\u001b[0m\u001b[1;33m\u001b[0m\u001b[0m\n\u001b[0;32m      7\u001b[0m \u001b[1;33m\u001b[0m\u001b[0m\n",
      "\u001b[1;31mIndexError\u001b[0m: list assignment index out of range"
     ]
    }
   ],
   "source": [
    "marburg  = open('Uni_Marburg_Wikipedia.txt', 'r')\n",
    "mar_tx = []\n",
    "i = 1\n",
    "for line in marburg:\n",
    "    mar_tx[i] = line\n",
    "    i=i+1\n",
    "    \n",
    "marburg.close()"
   ]
  },
  {
   "cell_type": "code",
   "execution_count": 21,
   "metadata": {},
   "outputs": [
    {
     "data": {
      "text/plain": [
       "1"
      ]
     },
     "execution_count": 21,
     "metadata": {},
     "output_type": "execute_result"
    }
   ],
   "source": [
    "marburg  = open('Uni_Marburg_Wikipedia.txt', 'r')\n",
    "mar_tx = marburg.read()\n",
    "marburg.close()\n",
    "mar_tx.count(\"Informatik\")"
   ]
  },
  {
   "cell_type": "markdown",
   "metadata": {},
   "source": [
    "## c) Welches sind die 10 Worte, die im Text am öftesten vorkommen? Geben Sie diese als Liste, oder in einer Menge aus. (2,5 P.)"
   ]
  },
  {
   "cell_type": "code",
   "execution_count": 25,
   "metadata": {},
   "outputs": [
    {
     "ename": "AttributeError",
     "evalue": "'dict' object has no attribute 'sort'",
     "output_type": "error",
     "traceback": [
      "\u001b[1;31m---------------------------------------------------------------------------\u001b[0m",
      "\u001b[1;31mAttributeError\u001b[0m                            Traceback (most recent call last)",
      "\u001b[1;32m<ipython-input-25-6745a61e1d56>\u001b[0m in \u001b[0;36m<module>\u001b[1;34m()\u001b[0m\n\u001b[0;32m     13\u001b[0m \u001b[1;33m\u001b[0m\u001b[0m\n\u001b[0;32m     14\u001b[0m \u001b[0mwc\u001b[0m \u001b[1;33m=\u001b[0m \u001b[0mword_count\u001b[0m\u001b[1;33m(\u001b[0m\u001b[0mmar_tx\u001b[0m\u001b[1;33m)\u001b[0m\u001b[1;33m\u001b[0m\u001b[0m\n\u001b[1;32m---> 15\u001b[1;33m \u001b[0mwc\u001b[0m \u001b[1;33m=\u001b[0m \u001b[0mwc\u001b[0m\u001b[1;33m.\u001b[0m\u001b[0msort\u001b[0m\u001b[1;33m\u001b[0m\u001b[0m\n\u001b[0m",
      "\u001b[1;31mAttributeError\u001b[0m: 'dict' object has no attribute 'sort'"
     ]
    }
   ],
   "source": [
    "#Funktion von https://www.w3resource.com/python-exercises/string/python-data-type-string-exercise-12.php\n",
    "def word_count(str):\n",
    "    counts = dict()\n",
    "    words = str.split()\n",
    "\n",
    "    for word in words:\n",
    "        if word in counts:\n",
    "            counts[word] += 1\n",
    "        else:\n",
    "            counts[word] = 1\n",
    "\n",
    "    return counts\n",
    "\n",
    "wc = word_count(mar_tx)\n",
    "wc = wc.sort"
   ]
  },
  {
   "cell_type": "markdown",
   "metadata": {},
   "source": [
    "# Aufgabe 1.2\n",
    "## Es ist folgender Text gegeben:\n",
    "Dr. Thomas Fober ist Dozent am Fachbereich 12 der Philipps-Universitaet Marburg. Im Wintersemster 2017/18 liesst er unter anderem die Vorlesung Maschinelles Lernen. Sein Buero befindet sich in 04C20a.\n",
    "## a) Geben Sie an, welche Wörter sowohl in diesem Text, als auch in dem Wikipediaartikel vorkommen. (2 P.)"
   ]
  },
  {
   "cell_type": "code",
   "execution_count": null,
   "metadata": {
    "collapsed": true
   },
   "outputs": [],
   "source": [
    "myStr = \"Dr. Thomas Fober ist Dozent am Fachbereich 12 der Philipps-Universitaet Marburg. Im Wintersemster 2017/18 liesst er unter anderem die Vorlesung Maschinelles Lernen. Sein Buero befindet sich in 04C20a.\"\n",
    "\n"
   ]
  },
  {
   "cell_type": "markdown",
   "metadata": {},
   "source": [
    "## b) Berechnen Sie mit Python die Menge, die alle Charakter speichert, die im ASCII-Alphabet nach dem \"p\" kommen. Verwenden Sie keine Schleife. (4 P.)\n",
    "### Für eine Lösung mit Schleife (1,5 P.)\n",
    "##### Hinweis: Sei a eine Variable, die ein Charakter enthält. Ein Vergleich \"p\"< a gibt genau dann true zurück, wenn a im ASCII-Alphabet nach p kommt, z.B. ist \"p\"<\"t\" true."
   ]
  },
  {
   "cell_type": "code",
   "execution_count": null,
   "metadata": {
    "collapsed": true
   },
   "outputs": [],
   "source": [
    "myStr = \"Dr. Thomas Fober ist Dozent am Fachbereich 12 der Philipps-Universitaet Marburg. Im Wintersemster 2017/18 liesst er unter anderem die Vorlesung Maschinelles Lernen. Sein Buero befindet sich in 04C20a.\"\n",
    "\n",
    "##Gib alle Buchstaben wieder, die größer als \"p\" sind und im String vorkommen."
   ]
  },
  {
   "cell_type": "markdown",
   "metadata": {},
   "source": [
    "# Aufgabe 1.3\n",
    "### Eine Matrix kann in Python durch zwei verschachtelte Listen dargestellt werden. z.B.:\n",
    "$$\n",
    "\\left(\n",
    "\\begin{array}{ll}\n",
    "4 & 5\\\\\n",
    "3 & 2\n",
    "\\end{array}\n",
    "\\right) =\n",
    "\\left[[4,5],[3,2]\\right]\n",
    "$$\n",
    "### Benutzen Sie in allen Aufgabenteilen keine konkreten Werte, sondern arbeiten Sie mit den Positionsangaben in der Matrix, so dass ihre Implementierung bei jeder möglichen Eingabe funktioniert.\n",
    "## a) Geben Sie den Python-Code an, der eine 3x3-Matrix transponieren lässt. (1,5 P.)\n",
    "##### Informationen zum Transponieren: https://www.mathebibel.de/transponierte-matrix"
   ]
  },
  {
   "cell_type": "code",
   "execution_count": 65,
   "metadata": {},
   "outputs": [
    {
     "data": {
      "text/plain": [
       "[[1, 0, -1], [2, 1, 0], [3, 0, 3]]"
      ]
     },
     "execution_count": 65,
     "metadata": {},
     "output_type": "execute_result"
    }
   ],
   "source": [
    "# Ein Beispiel für eine 3x3-Matrix an der Sie Ihre Implementierung testen können.\n",
    "#matrix = [[1,2,3],[0,1,0],[-1,0,3]]\n",
    "\n",
    "import numpy as np\n",
    "\n",
    "matrix = np.array([[1,2,3],[0,1,0],[-1,0,3]])\n",
    "\n",
    "matrix_t = matrix.transpose()\n",
    "\n",
    "matrix_t.tolist()"
   ]
  },
  {
   "cell_type": "markdown",
   "metadata": {},
   "source": [
    "## b) Geben Sie den Python-Code an, der die Determinante einer 3x3-Matrix berechnet. (2,5 P.)\n",
    "##### Informationen zum Berechnen einer 3x3-Determinante: https://www.mathebibel.de/3x3-determinanten-berechnen"
   ]
  },
  {
   "cell_type": "code",
   "execution_count": 74,
   "metadata": {},
   "outputs": [
    {
     "name": "stdout",
     "output_type": "stream",
     "text": [
      "6.0\n"
     ]
    }
   ],
   "source": [
    "# Ein Beispiel für eine 3x3-Matrix an der Sie Ihre Implementierung testen können.\n",
    "matrix = [[1,2,3],[0,1,0],[-1,0,3]]\n",
    "\n",
    "print(np.linalg.det(matrix))"
   ]
  },
  {
   "cell_type": "markdown",
   "metadata": {},
   "source": [
    "## c) Geben Sie den Python-Code an, der zwei 3x3 Matritzen multiplizieren lässt. (3 P.)\n",
    "##### Informationen zur Matrixmultiplikation: http://www.mathematrix.de/matrixmultiplikation/"
   ]
  },
  {
   "cell_type": "code",
   "execution_count": 78,
   "metadata": {},
   "outputs": [
    {
     "data": {
      "text/plain": [
       "[[4, 2, 0], [0, -1, 0], [2, 0, 3]]"
      ]
     },
     "execution_count": 78,
     "metadata": {},
     "output_type": "execute_result"
    }
   ],
   "source": [
    "# Ein weiteres Beispiel für eine 3x3-Matrix an der Sie Ihre Implementierung testen können.\n",
    "matrix = [[1,2,3],[0,1,0],[-1,0,3]]\n",
    "matrix2 = [[4,1,0],[2,-1,-2],[-2,0,1]]\n",
    "\n",
    "matrix_fin = np.array(matrix) * np.array(matrix2)\n",
    "matrix_fin.tolist()"
   ]
  },
  {
   "cell_type": "code",
   "execution_count": 83,
   "metadata": {},
   "outputs": [
    {
     "data": {
      "text/plain": [
       "array([[  2,  -1,  -1],\n",
       "       [  2,  -1,  -2],\n",
       "       [-10,  -1,   3]])"
      ]
     },
     "execution_count": 83,
     "metadata": {},
     "output_type": "execute_result"
    }
   ],
   "source": [
    "# Ein weiteres Beispiel für eine 3x3-Matrix an der Sie Ihre Implementierung testen können.\n",
    "matrix = [[1,2,3],[0,1,0],[-1,0,3]]\n",
    "matrix2 = [[4,1,0],[2,-1,-2],[-2,0,1]]\n",
    "\n",
    "np.dot(matrix, matrix2) #Aus der Vorlesung (24.10.2017)"
   ]
  }
 ],
 "metadata": {
  "kernelspec": {
   "display_name": "Python 3",
   "language": "python",
   "name": "python3"
  },
  "language_info": {
   "codemirror_mode": {
    "name": "ipython",
    "version": 3
   },
   "file_extension": ".py",
   "mimetype": "text/x-python",
   "name": "python",
   "nbconvert_exporter": "python",
   "pygments_lexer": "ipython3",
   "version": "3.6.2"
  }
 },
 "nbformat": 4,
 "nbformat_minor": 2
}
