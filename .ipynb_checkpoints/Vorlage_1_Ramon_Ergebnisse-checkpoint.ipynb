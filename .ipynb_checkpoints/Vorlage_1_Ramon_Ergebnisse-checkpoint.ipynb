{
 "cells": [
  {
   "cell_type": "markdown",
   "metadata": {},
   "source": [
    "##### Hinweis: In den Aufgaben kann es sinnvoll sein sich über die Datenstrukturen Gedanken zu machen.\n",
    "# Aufgabe 1.1\n",
    "### Sie finden beigefügt eine Datei mit dem Namen Uni_Marburg_Wikipedia.txt. In dieser Datei ist der Wikipediaartikel (Stand 18.10.2017) unserer Universität gespeichert.\n",
    "## a) Öffen Sie die Datei, geben Sie den kompletten Text aus und schließen Sie dann den Datenstrom. (2,5 P.)"
   ]
  },
  {
   "cell_type": "code",
   "execution_count": 2,
   "metadata": {},
   "outputs": [],
   "source": [
    "marburg  = open('Uni_Marburg_Wikipedia.txt', 'r')"
   ]
  },
  {
   "cell_type": "code",
   "execution_count": 4,
   "metadata": {},
   "outputs": [
    {
     "ename": "AttributeError",
     "evalue": "'_io.TextIOWrapper' object has no attribute 'print'",
     "output_type": "error",
     "traceback": [
      "\u001b[1;31m---------------------------------------------------------------------------\u001b[0m",
      "\u001b[1;31mAttributeError\u001b[0m                            Traceback (most recent call last)",
      "\u001b[1;32m<ipython-input-4-2a77ad1e52a6>\u001b[0m in \u001b[0;36m<module>\u001b[1;34m()\u001b[0m\n\u001b[1;32m----> 1\u001b[1;33m \u001b[0mmarburg\u001b[0m\u001b[1;33m.\u001b[0m\u001b[0mprint\u001b[0m\u001b[1;33m(\u001b[0m\u001b[1;33m)\u001b[0m\u001b[1;33m\u001b[0m\u001b[0m\n\u001b[0m",
      "\u001b[1;31mAttributeError\u001b[0m: '_io.TextIOWrapper' object has no attribute 'print'"
     ]
    }
   ],
   "source": [
    "marburg.print()"
   ]
  },
  {
   "cell_type": "code",
   "execution_count": 39,
   "metadata": {
    "collapsed": true
   },
   "outputs": [],
   "source": [
    "marburg.close()"
   ]
  },
  {
   "cell_type": "markdown",
   "metadata": {},
   "source": [
    "## b) Lassen Sie berechnen, wie oft das Wort Informatik vorkommt. (2 P.)"
   ]
  },
  {
   "cell_type": "code",
   "execution_count": 81,
   "metadata": {
    "collapsed": true
   },
   "outputs": [],
   "source": [
    "marburg  = open('Uni_Marburg_Wikipedia.txt', 'r')"
   ]
  },
  {
   "cell_type": "code",
   "execution_count": 82,
   "metadata": {},
   "outputs": [
    {
     "ename": "AttributeError",
     "evalue": "'_io.TextIOWrapper' object has no attribute 'readall'",
     "output_type": "error",
     "traceback": [
      "\u001b[1;31m---------------------------------------------------------------------------\u001b[0m",
      "\u001b[1;31mAttributeError\u001b[0m                            Traceback (most recent call last)",
      "\u001b[1;32m<ipython-input-82-e8509c43e27f>\u001b[0m in \u001b[0;36m<module>\u001b[1;34m()\u001b[0m\n\u001b[1;32m----> 1\u001b[1;33m \u001b[0mmarburg\u001b[0m \u001b[1;33m=\u001b[0m \u001b[0mmarburg\u001b[0m\u001b[1;33m.\u001b[0m\u001b[0mreadall\u001b[0m\u001b[1;33m(\u001b[0m\u001b[1;33m)\u001b[0m\u001b[1;33m\u001b[0m\u001b[0m\n\u001b[0m",
      "\u001b[1;31mAttributeError\u001b[0m: '_io.TextIOWrapper' object has no attribute 'readall'"
     ]
    }
   ],
   "source": [
    "marburg = marburg.readall()"
   ]
  },
  {
   "cell_type": "code",
   "execution_count": 47,
   "metadata": {},
   "outputs": [
    {
     "name": "stdout",
     "output_type": "stream",
     "text": [
      "<_io.TextIOWrapper name='Uni_Marburg_Wikipedia.txt' mode='r' encoding='cp1252'>\n"
     ]
    },
    {
     "data": {
      "text/plain": [
       "str"
      ]
     },
     "execution_count": 47,
     "metadata": {},
     "output_type": "execute_result"
    }
   ],
   "source": [
    "print(marburg)\n",
    "type(marburg)"
   ]
  },
  {
   "cell_type": "code",
   "execution_count": 80,
   "metadata": {},
   "outputs": [
    {
     "ename": "AttributeError",
     "evalue": "'_io.TextIOWrapper' object has no attribute 'count'",
     "output_type": "error",
     "traceback": [
      "\u001b[1;31m---------------------------------------------------------------------------\u001b[0m",
      "\u001b[1;31mAttributeError\u001b[0m                            Traceback (most recent call last)",
      "\u001b[1;32m<ipython-input-80-1636c501c68b>\u001b[0m in \u001b[0;36m<module>\u001b[1;34m()\u001b[0m\n\u001b[1;32m----> 1\u001b[1;33m \u001b[0mmarburg\u001b[0m\u001b[1;33m.\u001b[0m\u001b[0mcount\u001b[0m\u001b[1;33m(\u001b[0m\u001b[1;34m'informatik'\u001b[0m\u001b[1;33m)\u001b[0m\u001b[1;33m\u001b[0m\u001b[0m\n\u001b[0m",
      "\u001b[1;31mAttributeError\u001b[0m: '_io.TextIOWrapper' object has no attribute 'count'"
     ]
    }
   ],
   "source": [
    "marburg.count('informatik')"
   ]
  },
  {
   "cell_type": "markdown",
   "metadata": {},
   "source": [
    "## c) Welches sind die 10 Worte, die im Text am öftesten vorkommen? Geben Sie diese als Liste, oder in einer Menge aus. (2,5 P.)"
   ]
  },
  {
   "cell_type": "code",
   "execution_count": null,
   "metadata": {
    "collapsed": true
   },
   "outputs": [],
   "source": []
  },
  {
   "cell_type": "markdown",
   "metadata": {},
   "source": [
    "# Aufgabe 1.2\n",
    "## Es ist folgender Text gegeben:\n",
    "Dr. Thomas Fober ist Dozent am Fachbereich 12 der Philipps-Universitaet Marburg. Im Wintersemster 2017/18 liesst er unter anderem die Vorlesung Maschinelles Lernen. Sein Buero befindet sich in 04C20a.\n",
    "## a) Geben Sie an, welche Wörter sowohl in diesem Text, als auch in dem Wikipediaartikel vorkommen. (2 P.)"
   ]
  },
  {
   "cell_type": "code",
   "execution_count": null,
   "metadata": {
    "collapsed": true
   },
   "outputs": [],
   "source": [
    "myStr = \"Dr. Thomas Fober ist Dozent am Fachbereich 12 der Philipps-Universitaet Marburg. Im Wintersemster 2017/18 liesst er unter anderem die Vorlesung Maschinelles Lernen. Sein Buero befindet sich in 04C20a.\"\n",
    "\n"
   ]
  },
  {
   "cell_type": "markdown",
   "metadata": {},
   "source": [
    "## b) Berechnen Sie mit Python die Menge, die alle Charakter speichert, die im ASCII-Alphabet nach dem \"p\" kommen. Verwenden Sie keine Schleife. (4 P.)\n",
    "### Für eine Lösung mit Schleife (1,5 P.)\n",
    "##### Hinweis: Sei a eine Variable, die ein Charakter enthält. Ein Vergleich \"p\"< a gibt genau dann true zurück, wenn a im ASCII-Alphabet nach p kommt, z.B. ist \"p\"<\"t\" true."
   ]
  },
  {
   "cell_type": "code",
   "execution_count": null,
   "metadata": {
    "collapsed": true
   },
   "outputs": [],
   "source": [
    "myStr = \"Dr. Thomas Fober ist Dozent am Fachbereich 12 der Philipps-Universitaet Marburg. Im Wintersemster 2017/18 liesst er unter anderem die Vorlesung Maschinelles Lernen. Sein Buero befindet sich in 04C20a.\"\n",
    "\n",
    "##Gib alle Buchstaben wieder, die größer als \"p\" sind und im String vorkommen."
   ]
  },
  {
   "cell_type": "markdown",
   "metadata": {},
   "source": [
    "# Aufgabe 1.3\n",
    "### Eine Matrix kann in Python durch zwei verschachtelte Listen dargestellt werden. z.B.:\n",
    "$$\n",
    "\\left(\n",
    "\\begin{array}{ll}\n",
    "4 & 5\\\\\n",
    "3 & 2\n",
    "\\end{array}\n",
    "\\right) =\n",
    "\\left[[4,5],[3,2]\\right]\n",
    "$$\n",
    "### Benutzen Sie in allen Aufgabenteilen keine konkreten Werte, sondern arbeiten Sie mit den Positionsangaben in der Matrix, so dass ihre Implementierung bei jeder möglichen Eingabe funktioniert.\n",
    "## a) Geben Sie den Python-Code an, der eine 3x3-Matrix transponieren lässt. (1,5 P.)\n",
    "##### Informationen zum Transponieren: https://www.mathebibel.de/transponierte-matrix"
   ]
  },
  {
   "cell_type": "code",
   "execution_count": 65,
   "metadata": {},
   "outputs": [
    {
     "data": {
      "text/plain": [
       "[[1, 0, -1], [2, 1, 0], [3, 0, 3]]"
      ]
     },
     "execution_count": 65,
     "metadata": {},
     "output_type": "execute_result"
    }
   ],
   "source": [
    "# Ein Beispiel für eine 3x3-Matrix an der Sie Ihre Implementierung testen können.\n",
    "#matrix = [[1,2,3],[0,1,0],[-1,0,3]]\n",
    "\n",
    "import numpy as np\n",
    "\n",
    "matrix = np.array([[1,2,3],[0,1,0],[-1,0,3]])\n",
    "\n",
    "matrix_t = matrix.transpose()\n",
    "\n",
    "matrix_t.tolist()"
   ]
  },
  {
   "cell_type": "markdown",
   "metadata": {},
   "source": [
    "## b) Geben Sie den Python-Code an, der die Determinante einer 3x3-Matrix berechnet. (2,5 P.)\n",
    "##### Informationen zum Berechnen einer 3x3-Determinante: https://www.mathebibel.de/3x3-determinanten-berechnen"
   ]
  },
  {
   "cell_type": "code",
   "execution_count": 74,
   "metadata": {},
   "outputs": [
    {
     "name": "stdout",
     "output_type": "stream",
     "text": [
      "6.0\n"
     ]
    }
   ],
   "source": [
    "# Ein Beispiel für eine 3x3-Matrix an der Sie Ihre Implementierung testen können.\n",
    "matrix = [[1,2,3],[0,1,0],[-1,0,3]]\n",
    "\n",
    "print(np.linalg.det(matrix))"
   ]
  },
  {
   "cell_type": "markdown",
   "metadata": {},
   "source": [
    "## c) Geben Sie den Python-Code an, der zwei 3x3 Matritzen multiplizieren lässt. (3 P.)\n",
    "##### Informationen zur Matrixmultiplikation: http://www.mathematrix.de/matrixmultiplikation/"
   ]
  },
  {
   "cell_type": "code",
   "execution_count": 78,
   "metadata": {},
   "outputs": [
    {
     "data": {
      "text/plain": [
       "[[4, 2, 0], [0, -1, 0], [2, 0, 3]]"
      ]
     },
     "execution_count": 78,
     "metadata": {},
     "output_type": "execute_result"
    }
   ],
   "source": [
    "# Ein weiteres Beispiel für eine 3x3-Matrix an der Sie Ihre Implementierung testen können.\n",
    "matrix = [[1,2,3],[0,1,0],[-1,0,3]]\n",
    "matrix2 = [[4,1,0],[2,-1,-2],[-2,0,1]]\n",
    "\n",
    "matrix_fin = np.array(matrix) * np.array(matrix2)\n",
    "matrix_fin.tolist()"
   ]
  },
  {
   "cell_type": "code",
   "execution_count": 83,
   "metadata": {},
   "outputs": [
    {
     "data": {
      "text/plain": [
       "array([[  2,  -1,  -1],\n",
       "       [  2,  -1,  -2],\n",
       "       [-10,  -1,   3]])"
      ]
     },
     "execution_count": 83,
     "metadata": {},
     "output_type": "execute_result"
    }
   ],
   "source": [
    "# Ein weiteres Beispiel für eine 3x3-Matrix an der Sie Ihre Implementierung testen können.\n",
    "matrix = [[1,2,3],[0,1,0],[-1,0,3]]\n",
    "matrix2 = [[4,1,0],[2,-1,-2],[-2,0,1]]\n",
    "\n",
    "np.dot(matrix, matrix2) #Aus der Vorlesung (24.10.2017)"
   ]
  }
 ],
 "metadata": {
  "kernelspec": {
   "display_name": "Python 3",
   "language": "python",
   "name": "python3"
  },
  "language_info": {
   "codemirror_mode": {
    "name": "ipython",
    "version": 3
   },
   "file_extension": ".py",
   "mimetype": "text/x-python",
   "name": "python",
   "nbconvert_exporter": "python",
   "pygments_lexer": "ipython3",
   "version": "3.6.2"
  }
 },
 "nbformat": 4,
 "nbformat_minor": 2
}
